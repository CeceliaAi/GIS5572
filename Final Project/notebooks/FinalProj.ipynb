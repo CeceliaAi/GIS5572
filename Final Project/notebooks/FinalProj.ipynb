{
 "cells": [
  {
   "cell_type": "markdown",
   "metadata": {},
   "source": [
    "## Build ETLs for datasets"
   ]
  },
  {
   "cell_type": "code",
   "execution_count": 1,
   "metadata": {},
   "outputs": [],
   "source": [
    "import requests as r\n",
    "import pandas as pd\n",
    "from urllib.request import urlopen\n",
    "from zipfile import ZipFile"
   ]
  },
  {
   "cell_type": "code",
   "execution_count": 3,
   "metadata": {},
   "outputs": [],
   "source": [
    "#create the ETL to download the risk score shapefile from FEMA.gov\n",
    "    \n",
    "base = \"https://nri-data-downloads.s3.amazonaws.com/\"\n",
    "    \n",
    "countyfile = \"NRI_Shapefile_Counties.zip\"\n"
   ]
  },
  {
   "cell_type": "code",
   "execution_count": 4,
   "metadata": {},
   "outputs": [
    {
     "name": "stdout",
     "output_type": "stream",
     "text": [
      "https://nri-data-downloads.s3.amazonaws.com/NRI_Shapefile_Counties.zip\n"
     ]
    }
   ],
   "source": [
    "NRI = str(base + countyfile)\n",
    "print(NRI)"
   ]
  },
  {
   "cell_type": "code",
   "execution_count": 5,
   "metadata": {},
   "outputs": [
    {
     "data": {
      "text/plain": [
       "<Response [200]>"
      ]
     },
     "execution_count": 5,
     "metadata": {},
     "output_type": "execute_result"
    }
   ],
   "source": [
    "r.get(NRI)\n"
   ]
  },
  {
   "cell_type": "code",
   "execution_count": 15,
   "metadata": {},
   "outputs": [],
   "source": [
    "nriData = r.get(NRI)"
   ]
  },
  {
   "cell_type": "code",
   "execution_count": 17,
   "metadata": {},
   "outputs": [],
   "source": [
    "with open(\"/Users/celia/Desktop/NRI_Shapefile_Counties.zip\", \"wb\") as zip:\n",
    "    zip.write(nriData.content)"
   ]
  },
  {
   "cell_type": "code",
   "execution_count": 18,
   "metadata": {},
   "outputs": [],
   "source": [
    "with zipfile.ZipFile(\"/Users/celia/Desktop/NRI_Shapefile_Counties.zip\",\"r\") as zip_ref:\n",
    "    zip_ref.extractall()"
   ]
  },
  {
   "cell_type": "code",
   "execution_count": 19,
   "metadata": {},
   "outputs": [],
   "source": [
    "#create the ETL to download the USGS Renewable Energy Potential shapefile\n",
    "#I couldn't get this ETL to work, and it was starting to become a large chunk of time, so I had to stop\n",
    "#I learned I am still not strong at json-based ETLs and will need to practice with them\n",
    "\n",
    "base5 = 'https://gds-api.nrel.gov/oc-backend/api/download_proxy/re-atlas/'\n",
    "solar = 'BYFsT7/ReAtlas_us_csp_total.zip'\n",
    "\n",
    "file:///C:/Users/celia/AppData/Local/Temp/ReAtlas_us_csp_total.zip"
   ]
  },
  {
   "cell_type": "code",
   "execution_count": 23,
   "metadata": {},
   "outputs": [
    {
     "name": "stdout",
     "output_type": "stream",
     "text": [
      "file:///C:/Users/celia/AppData/Local/Temp/ReAtlas_us_csp_total.zip\n"
     ]
    }
   ],
   "source": [
    "solarfile = str(base5 + solar)\n",
    "print(solarfile)"
   ]
  },
  {
   "cell_type": "code",
   "execution_count": null,
   "metadata": {},
   "outputs": [],
   "source": [
    "solarFile = r.get(solarfile)"
   ]
  },
  {
   "cell_type": "markdown",
   "metadata": {},
   "source": [
    "## Make Suitability Layer"
   ]
  },
  {
   "cell_type": "code",
   "execution_count": 3,
   "metadata": {},
   "outputs": [
    {
     "data": {
      "text/html": [
       "<h2>Output</h2>a Layer object<h2>Messages</h2>Start Time: Thursday, May 6, 2021 1:55:28 AM<br/>Succeeded at Thursday, May 6, 2021 1:55:31 AM (Elapsed Time: 2.65 seconds)<br/><style>.rendered_html td, .rendered_html th {text-align: left;}.rendered_html tbody {border: 1px solid black;}</style>"
      ],
      "text/plain": [
       "<Result 'Suit_Analysis3'>"
      ]
     },
     "execution_count": 3,
     "metadata": {},
     "output_type": "execute_result"
    }
   ],
   "source": [
    "#making a suitability analysis layer from the High Need Counties shapefile of 636 counties in need of electrical infrastructure\n",
    "arcpy.ba.MakeSuitabilityAnalysisLayer(\"High_Need_Counties\", \"Suit_Analysis3\")"
   ]
  },
  {
   "cell_type": "markdown",
   "metadata": {},
   "source": [
    "## Run Analysis"
   ]
  },
  {
   "cell_type": "code",
   "execution_count": 5,
   "metadata": {},
   "outputs": [
    {
     "data": {
      "text/html": [
       "<h2>Output</h2><table><tr><th>id</th><th>value</th></tr><tr><td>0</td><td>a Layer object</td></tr><tr><td>1</td><td>populationtotals.popgrwcyfy;householdincome.pci_cy;policy.white_cy;policy.black_cy;policy.amerind_cy;policy.asian_cy;policy.pacific_cy;policy.othrace_cy;policy.race2up_cy</td></tr></table><h2>Messages</h2>Start Time: Friday, May 7, 2021 2:23:16 AM<br/>Succeeded at Friday, May 7, 2021 2:24:27 AM (Elapsed Time: 1 minutes 10 seconds)<br/><style>.rendered_html td, .rendered_html th {text-align: left;}.rendered_html tbody {border: 1px solid black;}</style>"
      ],
      "text/plain": [
       "<Result 'Suit_Analysis3'>"
      ]
     },
     "execution_count": 5,
     "metadata": {},
     "output_type": "execute_result"
    }
   ],
   "source": [
    "#add variable from Esri demographics\n",
    "arcpy.ba.AddVariableBasedSuitabilityCriteria(\"Suit_Analysis3\", \"populationtotals.popgrwcyfy;householdincome.pci_cy;policy.white_cy;policy.black_cy;policy.amerind_cy;policy.asian_cy;policy.pacific_cy;policy.othrace_cy;policy.race2up_cy\")"
   ]
  },
  {
   "cell_type": "code",
   "execution_count": 2,
   "metadata": {},
   "outputs": [
    {
     "data": {
      "text/html": [
       "<h2>Output</h2>C:\\Users\\celia\\Documents\\ArcGIS\\Projects\\GIS5572_FinalProj\\GIS5572_FinalProj.gdb\\geo_point<h2>Messages</h2>Start Time: Saturday, May 8, 2021 12:08:59 AM<br/>Succeeded at Saturday, May 8, 2021 12:09:02 AM (Elapsed Time: 3.18 seconds)<br/><style>.rendered_html td, .rendered_html th {text-align: left;}.rendered_html tbody {border: 1px solid black;}</style>"
      ],
      "text/plain": [
       "<Result 'C:\\\\Users\\\\celia\\\\Documents\\\\ArcGIS\\\\Projects\\\\GIS5572_FinalProj\\\\GIS5572_FinalProj.gdb\\\\geo_point'>"
      ]
     },
     "execution_count": 2,
     "metadata": {},
     "output_type": "execute_result"
    }
   ],
   "source": [
    "#convert polygon layers to points\n",
    "arcpy.management.FeatureToPoint(\"High_Need_counties_solar_Spa\", \"solar_point\")\n",
    "arcpy.management.FeatureToPoint(\"wind_potential\", \"wind_point\")\n",
    "arcpy.management.FeatureToPoint(\"geo_potential\", \"geo_point\")"
   ]
  },
  {
   "cell_type": "code",
   "execution_count": 7,
   "metadata": {},
   "outputs": [
    {
     "data": {
      "text/html": [
       "<h2>Output</h2><table><tr><th>id</th><th>value</th></tr><tr><td>0</td><td>a Layer object</td></tr><tr><td>1</td><td>PointWeight_MAX</td></tr></table><h2>Messages</h2>Start Time: Saturday, May 8, 2021 12:24:01 AM<br/>Succeeded at Saturday, May 8, 2021 12:24:11 AM (Elapsed Time: 10.23 seconds)<br/><style>.rendered_html td, .rendered_html th {text-align: left;}.rendered_html tbody {border: 1px solid black;}</style>"
      ],
      "text/plain": [
       "<Result 'Suit_Analysis3'>"
      ]
     },
     "execution_count": 7,
     "metadata": {},
     "output_type": "execute_result"
    }
   ],
   "source": [
    "#add the points to the suitability criteria\n",
    "arcpy.ba.AddPointLayerBasedSuitabilityCriteria(\"Suit_Analysis3\", \"GISJOIN\", \"solar_point\", \"WEIGHT\", None, None, None, None, \"ave_dni\", \"MAX\", None)"
   ]
  },
  {
   "cell_type": "code",
   "execution_count": 8,
   "metadata": {},
   "outputs": [
    {
     "data": {
      "text/html": [
       "<h2>Output</h2><table><tr><th>id</th><th>value</th></tr><tr><td>0</td><td>a Layer object</td></tr><tr><td>1</td><td>PointWeight_MAX0</td></tr></table><h2>Messages</h2>Start Time: Saturday, May 8, 2021 12:28:11 AM<br/>Succeeded at Saturday, May 8, 2021 12:28:17 AM (Elapsed Time: 5.82 seconds)<br/><style>.rendered_html td, .rendered_html th {text-align: left;}.rendered_html tbody {border: 1px solid black;}</style>"
      ],
      "text/plain": [
       "<Result 'Suit_Analysis3'>"
      ]
     },
     "execution_count": 8,
     "metadata": {},
     "output_type": "execute_result"
    }
   ],
   "source": [
    "arcpy.ba.AddPointLayerBasedSuitabilityCriteria(\"Suit_Analysis3\", \"GISJOIN\", \"geo_point\", \"WEIGHT\", None, None, None, None, \"class\", \"MAX\", None)"
   ]
  },
  {
   "cell_type": "code",
   "execution_count": 9,
   "metadata": {},
   "outputs": [
    {
     "data": {
      "text/html": [
       "<h2>Output</h2><table><tr><th>id</th><th>value</th></tr><tr><td>0</td><td>a Layer object</td></tr><tr><td>1</td><td>PointWeight_MAX1</td></tr></table><h2>Messages</h2>Start Time: Saturday, May 8, 2021 12:28:40 AM<br/>Succeeded at Saturday, May 8, 2021 12:28:49 AM (Elapsed Time: 8.67 seconds)<br/><style>.rendered_html td, .rendered_html th {text-align: left;}.rendered_html tbody {border: 1px solid black;}</style>"
      ],
      "text/plain": [
       "<Result 'Suit_Analysis3'>"
      ]
     },
     "execution_count": 9,
     "metadata": {},
     "output_type": "execute_result"
    }
   ],
   "source": [
    "arcpy.ba.AddPointLayerBasedSuitabilityCriteria(\"Suit_Analysis3\", \"GISJOIN\", \"wind_point\", \"WEIGHT\", None, None, None, None, \"a30\", \"MAX\", None)"
   ]
  },
  {
   "cell_type": "code",
   "execution_count": 10,
   "metadata": {},
   "outputs": [
    {
     "data": {
      "text/html": [
       "<h2>Output</h2><table><tr><th>id</th><th>value</th></tr><tr><td>0</td><td>a Layer object</td></tr><tr><td>1</td><td>PointWeight_MAX2</td></tr></table><h2>Messages</h2>Start Time: Saturday, May 8, 2021 12:59:06 AM<br/>Succeeded at Saturday, May 8, 2021 12:59:19 AM (Elapsed Time: 13.62 seconds)<br/><style>.rendered_html td, .rendered_html th {text-align: left;}.rendered_html tbody {border: 1px solid black;}</style>"
      ],
      "text/plain": [
       "<Result 'Suit_Analysis3'>"
      ]
     },
     "execution_count": 10,
     "metadata": {},
     "output_type": "execute_result"
    }
   ],
   "source": [
    "arcpy.ba.AddPointLayerBasedSuitabilityCriteria(\"Suit_Analysis3\", \"GISJOIN\", \"NRI_Point\", \"WEIGHT\", None, None, None, None, \"RISK_SCORE\", \"MAX\", None)"
   ]
  },
  {
   "cell_type": "code",
   "execution_count": 2,
   "metadata": {},
   "outputs": [
    {
     "data": {
      "text/html": [
       "<h2>Output</h2>a Layer object<h2>Messages</h2>Start Time: Friday, May 7, 2021 2:09:02 AM<br/>Succeeded at Friday, May 7, 2021 2:09:04 AM (Elapsed Time: 2.41 seconds)<br/><style>.rendered_html td, .rendered_html th {text-align: left;}.rendered_html tbody {border: 1px solid black;}</style>"
      ],
      "text/plain": [
       "<Result 'Suit_Analysis3'>"
      ]
     },
     "execution_count": 2,
     "metadata": {},
     "output_type": "execute_result"
    }
   ],
   "source": [
    "arcpy.ba.RemoveSuitabilityCriteria(\"Suit_Analysis3\", \"populationtotals.popgrwcyfy;householdincome.pci_cy;policy.white_cy;policy.black_cy;policy.amerind_cy;policy.asian_cy;policy.pacific_cy;policy.othrace_cy;policy.race2up_cy\")"
   ]
  },
  {
   "cell_type": "code",
   "execution_count": null,
   "metadata": {},
   "outputs": [],
   "source": [
    "#I tried to set the criteria properties but it didn't work for any of the variables whether they came from Esri or elsewhere\n",
    "#the error message was vague and I never figured out what wasn't working\n",
    "#a bunch of error messages:"
   ]
  },
  {
   "cell_type": "code",
   "execution_count": 6,
   "metadata": {},
   "outputs": [
    {
     "ename": "RuntimeError",
     "evalue": "Object: Error in executing tool",
     "output_type": "error",
     "traceback": [
      "\u001b[0;31m---------------------------------------------------------------------------\u001b[0m\n\u001b[0;31mRuntimeError\u001b[0m                              Traceback (most recent call last)",
      "In  \u001b[0;34m[6]\u001b[0m:\nLine \u001b[0;34m1\u001b[0m:     arcpy.ba.SetCriteriaProperties(\u001b[33m\"\u001b[39;49;00m\u001b[33mSuit_Analysis3\u001b[39;49;00m\u001b[33m\"\u001b[39;49;00m, \u001b[33m\"\u001b[39;49;00m\u001b[33mpopulationtotals.popgrwcyfy \u001b[39;49;00m\u001b[33m'\u001b[39;49;00m\u001b[33mCriterion for populationtotals.popgrwcyfy variable\u001b[39;49;00m\u001b[33m'\u001b[39;49;00m\u001b[33m 1 # # POSITIVE # true; householdincome.pci_cy \u001b[39;49;00m\u001b[33m'\u001b[39;49;00m\u001b[33mCriterion for householdincome.pci_cy variable\u001b[39;49;00m\u001b[33m'\u001b[39;49;00m\u001b[33m 2 # # INVERSE # true; policy.white_cy \u001b[39;49;00m\u001b[33m'\u001b[39;49;00m\u001b[33mCriterion for policy.white_cy variable\u001b[39;49;00m\u001b[33m'\u001b[39;49;00m\u001b[33m 0 # # POSITIVE # true; policy.black_cy \u001b[39;49;00m\u001b[33m'\u001b[39;49;00m\u001b[33mCriterion for policy.black_cy variable\u001b[39;49;00m\u001b[33m'\u001b[39;49;00m\u001b[33m 1 # # POSITIVE # true; policy.amerind_cy \u001b[39;49;00m\u001b[33m'\u001b[39;49;00m\u001b[33mCriterion for policy.amerind_cy variable\u001b[39;49;00m\u001b[33m'\u001b[39;49;00m\u001b[33m 1 # # POSITIVE # true; policy.asian_cy \u001b[39;49;00m\u001b[33m'\u001b[39;49;00m\u001b[33mCriterion for policy.asian_cy variable\u001b[39;49;00m\u001b[33m'\u001b[39;49;00m\u001b[33m 1 # # POSITIVE # true; policy.pacific_cy \u001b[39;49;00m\u001b[33m'\u001b[39;49;00m\u001b[33mCriterion for policy.pacific_cy variable\u001b[39;49;00m\u001b[33m'\u001b[39;49;00m\u001b[33m 1 # # POSITIVE # true; policy.othrace_cy \u001b[39;49;00m\u001b[33m'\u001b[39;49;00m\u001b[33mCriterion for policy.othrace_cy variable\u001b[39;49;00m\u001b[33m'\u001b[39;49;00m\u001b[33m 1 # # POSITIVE # true; policy.race2up_cy \u001b[39;49;00m\u001b[33m'\u001b[39;49;00m\u001b[33mCriterion for policy.race2up_cy variable\u001b[39;49;00m\u001b[33m'\u001b[39;49;00m\u001b[33m 1 # # POSITIVE # true\u001b[39;49;00m\u001b[33m\"\u001b[39;49;00m)\n",
      "File \u001b[0;34mC:\\Program Files\\ArcGIS\\Pro\\Resources\\ArcPy\\arcpy\\ba.py\u001b[0m, in \u001b[0;32mSetCriteriaProperties\u001b[0m:\nLine \u001b[0;34m792\u001b[0m:   \u001b[34mraise\u001b[39;49;00m e\n",
      "File \u001b[0;34mC:\\Program Files\\ArcGIS\\Pro\\Resources\\ArcPy\\arcpy\\ba.py\u001b[0m, in \u001b[0;32mSetCriteriaProperties\u001b[0m:\nLine \u001b[0;34m789\u001b[0m:   retval = convertArcObjectToPythonObject(gp.SetCriteriaProperties_ba(*gp_fixargs((in_analysis_layer, criteria_properties), \u001b[34mTrue\u001b[39;49;00m)))\n",
      "File \u001b[0;34mC:\\Program Files\\ArcGIS\\Pro\\Resources\\ArcPy\\arcpy\\geoprocessing\\_base.py\u001b[0m, in \u001b[0;32m<lambda>\u001b[0m:\nLine \u001b[0;34m511\u001b[0m:   \u001b[34mreturn\u001b[39;49;00m \u001b[34mlambda\u001b[39;49;00m *args: val(*gp_fixargs(args, \u001b[34mTrue\u001b[39;49;00m))\n",
      "\u001b[0;31mRuntimeError\u001b[0m: Object: Error in executing tool\n\u001b[0;31m---------------------------------------------------------------------------\u001b[0m"
     ]
    }
   ],
   "source": [
    "#set properties for demographic data\n",
    "arcpy.ba.SetCriteriaProperties(\"Suit_Analysis3\", \"populationtotals.popgrwcyfy 'Criterion for populationtotals.popgrwcyfy variable' 1 # # POSITIVE # true; householdincome.pci_cy 'Criterion for householdincome.pci_cy variable' 2 # # INVERSE # true; policy.white_cy 'Criterion for policy.white_cy variable' 0 # # POSITIVE # true; policy.black_cy 'Criterion for policy.black_cy variable' 1 # # POSITIVE # true; policy.amerind_cy 'Criterion for policy.amerind_cy variable' 1 # # POSITIVE # true; policy.asian_cy 'Criterion for policy.asian_cy variable' 1 # # POSITIVE # true; policy.pacific_cy 'Criterion for policy.pacific_cy variable' 1 # # POSITIVE # true; policy.othrace_cy 'Criterion for policy.othrace_cy variable' 1 # # POSITIVE # true; policy.race2up_cy 'Criterion for policy.race2up_cy variable' 1 # # POSITIVE # true\")"
   ]
  },
  {
   "cell_type": "code",
   "execution_count": 14,
   "metadata": {},
   "outputs": [
    {
     "ename": "RuntimeError",
     "evalue": "Object: Error in executing tool",
     "output_type": "error",
     "traceback": [
      "\u001b[0;31m---------------------------------------------------------------------------\u001b[0m\n\u001b[0;31mRuntimeError\u001b[0m                              Traceback (most recent call last)",
      "In  \u001b[0;34m[14]\u001b[0m:\nLine \u001b[0;34m2\u001b[0m:     arcpy.ba.SetCriteriaProperties(\u001b[33m\"\u001b[39;49;00m\u001b[33mSuit_Analysis3\u001b[39;49;00m\u001b[33m\"\u001b[39;49;00m, \u001b[33m\"\u001b[39;49;00m\u001b[33mPointWeight_Max2 \u001b[39;49;00m\u001b[33m'\u001b[39;49;00m\u001b[33mCriterion for PointWeight_MAX2 variable\u001b[39;49;00m\u001b[33m'\u001b[39;49;00m\u001b[33m 2 # # POSITIVE # true\u001b[39;49;00m\u001b[33m\"\u001b[39;49;00m)\n",
      "File \u001b[0;34mC:\\Program Files\\ArcGIS\\Pro\\Resources\\ArcPy\\arcpy\\ba.py\u001b[0m, in \u001b[0;32mSetCriteriaProperties\u001b[0m:\nLine \u001b[0;34m792\u001b[0m:   \u001b[34mraise\u001b[39;49;00m e\n",
      "File \u001b[0;34mC:\\Program Files\\ArcGIS\\Pro\\Resources\\ArcPy\\arcpy\\ba.py\u001b[0m, in \u001b[0;32mSetCriteriaProperties\u001b[0m:\nLine \u001b[0;34m789\u001b[0m:   retval = convertArcObjectToPythonObject(gp.SetCriteriaProperties_ba(*gp_fixargs((in_analysis_layer, criteria_properties), \u001b[34mTrue\u001b[39;49;00m)))\n",
      "File \u001b[0;34mC:\\Program Files\\ArcGIS\\Pro\\Resources\\ArcPy\\arcpy\\geoprocessing\\_base.py\u001b[0m, in \u001b[0;32m<lambda>\u001b[0m:\nLine \u001b[0;34m511\u001b[0m:   \u001b[34mreturn\u001b[39;49;00m \u001b[34mlambda\u001b[39;49;00m *args: val(*gp_fixargs(args, \u001b[34mTrue\u001b[39;49;00m))\n",
      "\u001b[0;31mRuntimeError\u001b[0m: Object: Error in executing tool\n\u001b[0;31m---------------------------------------------------------------------------\u001b[0m"
     ]
    }
   ],
   "source": [
    "#set properties for NRI Risk data\n",
    "arcpy.ba.SetCriteriaProperties(\"Suit_Analysis3\", \"PointWeight_Max2 'RISK_SCORE' 2 # # POSITIVE # true\")"
   ]
  },
  {
   "cell_type": "code",
   "execution_count": 1,
   "metadata": {},
   "outputs": [
    {
     "ename": "RuntimeError",
     "evalue": "Object: Error in executing tool",
     "output_type": "error",
     "traceback": [
      "\u001b[0;31m---------------------------------------------------------------------------\u001b[0m\n\u001b[0;31mRuntimeError\u001b[0m                              Traceback (most recent call last)",
      "In  \u001b[0;34m[1]\u001b[0m:\nLine \u001b[0;34m2\u001b[0m:     arcpy.ba.SetCriteriaProperties(\u001b[33m\"\u001b[39;49;00m\u001b[33mSuit_Analysis3\u001b[39;49;00m\u001b[33m\"\u001b[39;49;00m, \u001b[33m\"\u001b[39;49;00m\u001b[33msolar_potential \u001b[39;49;00m\u001b[33m'\u001b[39;49;00m\u001b[33mave_dni\u001b[39;49;00m\u001b[33m'\u001b[39;49;00m\u001b[33m 1 # # POSITIVE # true\u001b[39;49;00m\u001b[33m\"\u001b[39;49;00m)\n",
      "File \u001b[0;34mC:\\Program Files\\ArcGIS\\Pro\\Resources\\ArcPy\\arcpy\\ba.py\u001b[0m, in \u001b[0;32mSetCriteriaProperties\u001b[0m:\nLine \u001b[0;34m792\u001b[0m:   \u001b[34mraise\u001b[39;49;00m e\n",
      "File \u001b[0;34mC:\\Program Files\\ArcGIS\\Pro\\Resources\\ArcPy\\arcpy\\ba.py\u001b[0m, in \u001b[0;32mSetCriteriaProperties\u001b[0m:\nLine \u001b[0;34m789\u001b[0m:   retval = convertArcObjectToPythonObject(gp.SetCriteriaProperties_ba(*gp_fixargs((in_analysis_layer, criteria_properties), \u001b[34mTrue\u001b[39;49;00m)))\n",
      "File \u001b[0;34mC:\\Program Files\\ArcGIS\\Pro\\Resources\\ArcPy\\arcpy\\geoprocessing\\_base.py\u001b[0m, in \u001b[0;32m<lambda>\u001b[0m:\nLine \u001b[0;34m511\u001b[0m:   \u001b[34mreturn\u001b[39;49;00m \u001b[34mlambda\u001b[39;49;00m *args: val(*gp_fixargs(args, \u001b[34mTrue\u001b[39;49;00m))\n",
      "\u001b[0;31mRuntimeError\u001b[0m: Object: Error in executing tool\n\u001b[0;31m---------------------------------------------------------------------------\u001b[0m"
     ]
    }
   ],
   "source": [
    "#set properties for solar data\n",
    "arcpy.ba.SetCriteriaProperties(\"Suit_Analysis3\", \"solar_potential 'ave_dni' 1 # # POSITIVE # true\")"
   ]
  },
  {
   "cell_type": "code",
   "execution_count": null,
   "metadata": {},
   "outputs": [],
   "source": [
    "#set properties for geothermal data\n",
    "arcpy.ba.SetCriteriaProperties(\"Suit_Analysis3\", \"geo_potential 'class' 1 # # POSITIVE # true\")"
   ]
  },
  {
   "cell_type": "code",
   "execution_count": null,
   "metadata": {},
   "outputs": [],
   "source": [
    "#set properties for wind data\n",
    "arcpy.ba.SetCriteriaProperties(\"Suit_Analysis3\", \"wind_potential 'a30' 1 # # POSITIVE # true\")"
   ]
  },
  {
   "cell_type": "code",
   "execution_count": 15,
   "metadata": {},
   "outputs": [
    {
     "data": {
      "text/html": [
       "<h2>Output</h2>a Layer object<h2>Messages</h2>Start Time: Saturday, May 8, 2021 1:33:45 AM<br/>Succeeded at Saturday, May 8, 2021 1:33:49 AM (Elapsed Time: 4.80 seconds)<br/><style>.rendered_html td, .rendered_html th {text-align: left;}.rendered_html tbody {border: 1px solid black;}</style>"
      ],
      "text/plain": [
       "<Result 'Suit_Analysis3'>"
      ]
     },
     "execution_count": 15,
     "metadata": {},
     "output_type": "execute_result"
    }
   ],
   "source": [
    "#however, I was still able to successfully run the final calculation\n",
    "#because the criteria was set at default amounts when I originally set the variables\n",
    "#but this output is definitely wrong, because I was never able to set important stipulations, like setting Income as 'Inverse'\n",
    "#so I have even less insight into the weighting than I did in my trial run in the GUI\n",
    "#the final output used in my lab report came from running the data formatted above in the GUI tools\n",
    "\n",
    "arcpy.ba.CalculateSuitabilityScore(\"Suit_Analysis3\")"
   ]
  },
  {
   "cell_type": "markdown",
   "metadata": {},
   "source": [
    "## Format layout"
   ]
  },
  {
   "cell_type": "code",
   "execution_count": 18,
   "metadata": {},
   "outputs": [
    {
     "data": {
      "text/plain": [
       "'C:\\\\Users\\\\celia\\\\Documents\\\\ArcGIS\\\\Projects\\\\GIS5572_FinalProj\\\\Final_Layout.pdf'"
      ]
     },
     "execution_count": 18,
     "metadata": {},
     "output_type": "execute_result"
    }
   ],
   "source": [
    "#format and export\n",
    "aprx = arcpy.mp.ArcGISProject(r\"C:\\Users\\celia\\Documents\\ArcGIS\\Projects\\GIS5572_FinalProj\\GIS5572_FinalProj.aprx\")\n",
    "lyr = aprx.listLayouts(\"Final_Layout\")[0]\n",
    "lyr.exportToPDF(r\"C:\\Users\\celia\\Documents\\ArcGIS\\Projects\\GIS5572_FinalProj\\Final_Layout.pdf\", resolution = 300)"
   ]
  }
 ],
 "metadata": {
  "kernelspec": {
   "display_name": "Python 3",
   "language": "python",
   "name": "python3"
  },
  "language_info": {
   "codemirror_mode": {
    "name": "ipython",
    "version": 3
   },
   "file_extension": ".py",
   "mimetype": "text/x-python",
   "name": "python",
   "nbconvert_exporter": "python",
   "pygments_lexer": "ipython3",
   "version": "3.7.9"
  }
 },
 "nbformat": 4,
 "nbformat_minor": 2
}
