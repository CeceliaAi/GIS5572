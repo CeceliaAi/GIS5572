{
 "cells": [
  {
   "cell_type": "code",
   "execution_count": 2,
   "metadata": {},
   "outputs": [],
   "source": [
    "\n",
    "import requests as r\n",
    "import pandas as pd\n",
    "\n",
    "from datetime import date, datetime, timedelta\n",
    "from io import StringIO"
   ]
  },
  {
   "cell_type": "markdown",
   "metadata": {},
   "source": [
    "## Build the URL"
   ]
  },
  {
   "cell_type": "code",
   "execution_count": 27,
   "metadata": {},
   "outputs": [],
   "source": [
    "#assign variables to the pertinent parts of the URL\n",
    "base = \"https://ndawn.ndsu.nodak.edu/\"\n",
    "\n",
    "format1 = 'get-table.csv'\n",
    "format2 = \"table.csv\"\n",
    "\n",
    "station = \"?station=78&station=111&station=98&station=142&station=138&station=9&station=10&station=118&station=56&station=11&station=12&station=58&station=13&station=84&station=55&station=7&station=87&station=14&station=15&station=96&station=16&station=137&station=124&station=17&station=85&station=140&station=134&station=18&station=136&station=65&station=104&station=99&station=19&station=129&station=20&station=101&station=81&station=21&station=97&station=22&station=75&station=2&station=139&station=23&station=62&station=86&station=24&station=89&station=126&station=93&station=90&station=25&station=83&station=107&station=77&station=26&station=70&station=127&station=27&station=132&station=28&station=29&station=30&station=31&station=102&station=32&station=119&station=4&station=80&station=33&station=59&station=105&station=82&station=34&station=72&station=135&station=35&station=76&station=120&station=141&station=109&station=36&station=79&station=71&station=37&station=38&station=39&station=130&station=73&station=40&station=41&station=54&station=69&station=113&station=128&station=42&station=43&station=103&station=116&station=88&station=114&station=3&station=64&station=115&station=67&station=44&station=133&station=106&station=100&station=121&station=45&station=46&station=61&station=66&station=74&station=60&station=125&station=8&station=47&station=122&station=108&station=5&station=48&station=68&station=49&station=50&station=91&station=117&station=63&station=51&station=6&station=52&station=92&station=112&station=131&station=123&station=95&station=53&station=57&station=110&variable=ddavt&year=2021&ttype=daily&\"\n",
    "\n",
    "endDate = date.today().isoformat()\n",
    "beginDate = (date.today()-timedelta(days=30)).isoformat()\n",
    "\n",
    "date_var = \"&quick_pick=&begin_date=\"\n",
    "\n"
   ]
  },
  {
   "cell_type": "code",
   "execution_count": 28,
   "metadata": {},
   "outputs": [
    {
     "name": "stdout",
     "output_type": "stream",
     "text": [
      "https://ndawn.ndsu.nodak.edu/table.csv?station=78&station=111&station=98&station=142&station=138&station=9&station=10&station=118&station=56&station=11&station=12&station=58&station=13&station=84&station=55&station=7&station=87&station=14&station=15&station=96&station=16&station=137&station=124&station=17&station=85&station=140&station=134&station=18&station=136&station=65&station=104&station=99&station=19&station=129&station=20&station=101&station=81&station=21&station=97&station=22&station=75&station=2&station=139&station=23&station=62&station=86&station=24&station=89&station=126&station=93&station=90&station=25&station=83&station=107&station=77&station=26&station=70&station=127&station=27&station=132&station=28&station=29&station=30&station=31&station=102&station=32&station=119&station=4&station=80&station=33&station=59&station=105&station=82&station=34&station=72&station=135&station=35&station=76&station=120&station=141&station=109&station=36&station=79&station=71&station=37&station=38&station=39&station=130&station=73&station=40&station=41&station=54&station=69&station=113&station=128&station=42&station=43&station=103&station=116&station=88&station=114&station=3&station=64&station=115&station=67&station=44&station=133&station=106&station=100&station=121&station=45&station=46&station=61&station=66&station=74&station=60&station=125&station=8&station=47&station=122&station=108&station=5&station=48&station=68&station=49&station=50&station=91&station=117&station=63&station=51&station=6&station=52&station=92&station=112&station=131&station=123&station=95&station=53&station=57&station=110&variable=ddavt&year=2021&ttype=daily&&quick_pick=&begin_date=2021-03-19&end_date=2021-04-18\n"
     ]
    }
   ],
   "source": [
    "#put it all together\n",
    "download = str(base + format2 + station + date_var + beginDate + \"&end_date=\" + endDate)\n",
    "\n",
    "print(download)"
   ]
  },
  {
   "cell_type": "code",
   "execution_count": 30,
   "metadata": {},
   "outputs": [
    {
     "data": {
      "text/plain": [
       "<Response [200]>"
      ]
     },
     "execution_count": 30,
     "metadata": {},
     "output_type": "execute_result"
    }
   ],
   "source": [
    "#make sure the URL works\n",
    "r.get(download)\n",
    "\n",
    "ndawndata = r.get(download)"
   ]
  },
  {
   "cell_type": "markdown",
   "metadata": {},
   "source": [
    "## Open the CSV with Pandas"
   ]
  },
  {
   "cell_type": "code",
   "execution_count": 31,
   "metadata": {},
   "outputs": [
    {
     "data": {
      "text/plain": [
       "202761"
      ]
     },
     "execution_count": 31,
     "metadata": {},
     "output_type": "execute_result"
    }
   ],
   "source": [
    "open(\"table.csv\",\"wb\").write(ndawndata.content)"
   ]
  },
  {
   "cell_type": "code",
   "execution_count": 45,
   "metadata": {},
   "outputs": [
    {
     "data": {
      "text/html": [
       "<div>\n",
       "<style scoped>\n",
       "    .dataframe tbody tr th:only-of-type {\n",
       "        vertical-align: middle;\n",
       "    }\n",
       "\n",
       "    .dataframe tbody tr th {\n",
       "        vertical-align: top;\n",
       "    }\n",
       "\n",
       "    .dataframe thead th {\n",
       "        text-align: right;\n",
       "    }\n",
       "</style>\n",
       "<table border=\"1\" class=\"dataframe\">\n",
       "  <thead>\n",
       "    <tr style=\"text-align: right;\">\n",
       "      <th></th>\n",
       "      <th>Station Name</th>\n",
       "      <th>Latitude</th>\n",
       "      <th>Longitude</th>\n",
       "      <th>Elevation</th>\n",
       "      <th>Year</th>\n",
       "      <th>Month</th>\n",
       "      <th>Day</th>\n",
       "      <th>Avg Temp</th>\n",
       "      <th>Avg Temp Flag</th>\n",
       "    </tr>\n",
       "  </thead>\n",
       "  <tbody>\n",
       "    <tr>\n",
       "      <th>0</th>\n",
       "      <td>NaN</td>\n",
       "      <td>deg</td>\n",
       "      <td>deg</td>\n",
       "      <td>ft</td>\n",
       "      <td>NaN</td>\n",
       "      <td>NaN</td>\n",
       "      <td>NaN</td>\n",
       "      <td>Degrees F</td>\n",
       "      <td>NaN</td>\n",
       "    </tr>\n",
       "    <tr>\n",
       "      <th>1</th>\n",
       "      <td>Ada</td>\n",
       "      <td>47.3211</td>\n",
       "      <td>-96.5139</td>\n",
       "      <td>910</td>\n",
       "      <td>2021.0</td>\n",
       "      <td>3.0</td>\n",
       "      <td>19.0</td>\n",
       "      <td>40.395</td>\n",
       "      <td>NaN</td>\n",
       "    </tr>\n",
       "    <tr>\n",
       "      <th>2</th>\n",
       "      <td>Ada</td>\n",
       "      <td>47.3211</td>\n",
       "      <td>-96.5139</td>\n",
       "      <td>910</td>\n",
       "      <td>2021.0</td>\n",
       "      <td>3.0</td>\n",
       "      <td>20.0</td>\n",
       "      <td>50.546</td>\n",
       "      <td>NaN</td>\n",
       "    </tr>\n",
       "    <tr>\n",
       "      <th>3</th>\n",
       "      <td>Ada</td>\n",
       "      <td>47.3211</td>\n",
       "      <td>-96.5139</td>\n",
       "      <td>910</td>\n",
       "      <td>2021.0</td>\n",
       "      <td>3.0</td>\n",
       "      <td>21.0</td>\n",
       "      <td>42.461</td>\n",
       "      <td>NaN</td>\n",
       "    </tr>\n",
       "    <tr>\n",
       "      <th>4</th>\n",
       "      <td>Ada</td>\n",
       "      <td>47.3211</td>\n",
       "      <td>-96.5139</td>\n",
       "      <td>910</td>\n",
       "      <td>2021.0</td>\n",
       "      <td>3.0</td>\n",
       "      <td>22.0</td>\n",
       "      <td>35.165</td>\n",
       "      <td>NaN</td>\n",
       "    </tr>\n",
       "    <tr>\n",
       "      <th>...</th>\n",
       "      <td>...</td>\n",
       "      <td>...</td>\n",
       "      <td>...</td>\n",
       "      <td>...</td>\n",
       "      <td>...</td>\n",
       "      <td>...</td>\n",
       "      <td>...</td>\n",
       "      <td>...</td>\n",
       "      <td>...</td>\n",
       "    </tr>\n",
       "    <tr>\n",
       "      <th>3926</th>\n",
       "      <td>Zeeland</td>\n",
       "      <td>46.013378</td>\n",
       "      <td>-99.687587</td>\n",
       "      <td>2070</td>\n",
       "      <td>2021.0</td>\n",
       "      <td>4.0</td>\n",
       "      <td>13.0</td>\n",
       "      <td>24.417</td>\n",
       "      <td>NaN</td>\n",
       "    </tr>\n",
       "    <tr>\n",
       "      <th>3927</th>\n",
       "      <td>Zeeland</td>\n",
       "      <td>46.013378</td>\n",
       "      <td>-99.687587</td>\n",
       "      <td>2070</td>\n",
       "      <td>2021.0</td>\n",
       "      <td>4.0</td>\n",
       "      <td>14.0</td>\n",
       "      <td>31.173</td>\n",
       "      <td>NaN</td>\n",
       "    </tr>\n",
       "    <tr>\n",
       "      <th>3928</th>\n",
       "      <td>Zeeland</td>\n",
       "      <td>46.013378</td>\n",
       "      <td>-99.687587</td>\n",
       "      <td>2070</td>\n",
       "      <td>2021.0</td>\n",
       "      <td>4.0</td>\n",
       "      <td>15.0</td>\n",
       "      <td>37.556</td>\n",
       "      <td>NaN</td>\n",
       "    </tr>\n",
       "    <tr>\n",
       "      <th>3929</th>\n",
       "      <td>Zeeland</td>\n",
       "      <td>46.013378</td>\n",
       "      <td>-99.687587</td>\n",
       "      <td>2070</td>\n",
       "      <td>2021.0</td>\n",
       "      <td>4.0</td>\n",
       "      <td>16.0</td>\n",
       "      <td>36.441</td>\n",
       "      <td>NaN</td>\n",
       "    </tr>\n",
       "    <tr>\n",
       "      <th>3930</th>\n",
       "      <td>Zeeland</td>\n",
       "      <td>46.013378</td>\n",
       "      <td>-99.687587</td>\n",
       "      <td>2070</td>\n",
       "      <td>2021.0</td>\n",
       "      <td>4.0</td>\n",
       "      <td>17.0</td>\n",
       "      <td>37.587</td>\n",
       "      <td>NaN</td>\n",
       "    </tr>\n",
       "  </tbody>\n",
       "</table>\n",
       "<p>3931 rows × 9 columns</p>\n",
       "</div>"
      ],
      "text/plain": [
       "     Station Name   Latitude   Longitude  ...   Day   Avg Temp  Avg Temp Flag\n",
       "0             NaN        deg         deg  ...   NaN  Degrees F            NaN\n",
       "1             Ada    47.3211    -96.5139  ...  19.0     40.395            NaN\n",
       "2             Ada    47.3211    -96.5139  ...  20.0     50.546            NaN\n",
       "3             Ada    47.3211    -96.5139  ...  21.0     42.461            NaN\n",
       "4             Ada    47.3211    -96.5139  ...  22.0     35.165            NaN\n",
       "...           ...        ...         ...  ...   ...        ...            ...\n",
       "3926      Zeeland  46.013378  -99.687587  ...  13.0     24.417            NaN\n",
       "3927      Zeeland  46.013378  -99.687587  ...  14.0     31.173            NaN\n",
       "3928      Zeeland  46.013378  -99.687587  ...  15.0     37.556            NaN\n",
       "3929      Zeeland  46.013378  -99.687587  ...  16.0     36.441            NaN\n",
       "3930      Zeeland  46.013378  -99.687587  ...  17.0     37.587            NaN\n",
       "\n",
       "[3931 rows x 9 columns]"
      ]
     },
     "execution_count": 45,
     "metadata": {},
     "output_type": "execute_result"
    }
   ],
   "source": [
    "pd.read_csv('table.csv')"
   ]
  },
  {
   "cell_type": "markdown",
   "metadata": {},
   "source": [
    "## Find the average temps and georeference the station points"
   ]
  },
  {
   "cell_type": "code",
   "execution_count": null,
   "metadata": {},
   "outputs": [],
   "source": [
    "with arcpy.EnvManager(scratchWorkspace=r\"C:\\Users\\celia\\Documents\\ArcGIS\\Projects\\GIS5572_Lab4\\GIS5572_Lab4.gdb\", workspace=r\"C:\\Users\\celia\\Documents\\ArcGIS\\Projects\\GIS5572_Lab4\\GIS5572_Lab4.gdb\"):\n",
    "    arcpy.conversion.TableToTable(r\"C:\\Users\\celia\\Documents\\GitHub\\GIS5572\\Lab4\\data\\table.csv\", r\"C:\\Users\\celia\\Documents\\ArcGIS\\Projects\\GIS5572_Lab4\\GIS5572_Lab4.gdb\", \"OG_table\", '', r'Station_Name \"Station Name\" true true false 8000 Text 0 0,First,#,C:\\Users\\celia\\Documents\\GitHub\\GIS5572\\Lab4\\data\\table.csv,Station Name,0,8000;Latitude \"Latitude\" true true false 8000 Double 0 0,First,#,C:\\Users\\celia\\Documents\\GitHub\\GIS5572\\Lab4\\data\\table.csv,Latitude,0,8000;Longitude \"Longitude\" true true false 8000 Double 0 0,First,#,C:\\Users\\celia\\Documents\\GitHub\\GIS5572\\Lab4\\data\\table.csv,Longitude,0,8000;Elevation \"Elevation\" true true false 8000 Double 0 0,First,#,C:\\Users\\celia\\Documents\\GitHub\\GIS5572\\Lab4\\data\\table.csv,Elevation,0,8000;Year \"Year\" true true false 4 Text 0 0,First,#,C:\\Users\\celia\\Documents\\GitHub\\GIS5572\\Lab4\\data\\table.csv,Year,-1,-1;Month \"Month\" true true false 4 Text 0 0,First,#,C:\\Users\\celia\\Documents\\GitHub\\GIS5572\\Lab4\\data\\table.csv,Month,-1,-1;Day \"Day\" true true false 4 Text 0 0,First,#,C:\\Users\\celia\\Documents\\GitHub\\GIS5572\\Lab4\\data\\table.csv,Day,-1,-1;Avg_Temp \"Avg Temp\" true true false 8000 Double 0 0,First,#,C:\\Users\\celia\\Documents\\GitHub\\GIS5572\\Lab4\\data\\table.csv,Avg Temp,0,8000;Avg_Temp_Flag \"Avg Temp Flag\" true true false 8000 Text 0 0,First,#,C:\\Users\\celia\\Documents\\GitHub\\GIS5572\\Lab4\\data\\table.csv,Avg Temp Flag,0,8000', '')"
   ]
  },
  {
   "cell_type": "code",
   "execution_count": null,
   "metadata": {},
   "outputs": [],
   "source": [
    "#calculate the mean temperature for each station\n",
    "arcpy.analysis.Statistics(\"stations\", r\"C:\\Users\\celia\\Documents\\ArcGIS\\Projects\\GIS5572_Lab4\\GIS5572_Lab4.gdb\\stations_Statistics3\", \"Avg_Temp MEAN\", \"Station_Name;Latitude;Longitude\")"
   ]
  },
  {
   "cell_type": "code",
   "execution_count": null,
   "metadata": {},
   "outputs": [],
   "source": [
    "#use the statistics table, which is grouped by station, to map the points\n",
    "\n",
    "arcpy.management.XYTableToPoint(\"stations_Statistics3\", r\"C:\\Users\\celia\\Documents\\ArcGIS\\Projects\\GIS5572_Lab4\\GIS5572_Lab4.gdb\\stations_Statistics3_XYTableToPoint\", \"Longitude\", \"Latitude\", None, \"GEOGCS['GCS_WGS_1984',DATUM['D_WGS_1984',SPHEROID['WGS_1984',6378137.0,298.257223563]],PRIMEM['Greenwich',0.0],UNIT['Degree',0.0174532925199433]];-400 -400 1000000000;-100000 10000;-100000 10000;8.98315284119521E-09;0.001;0.001;IsHighPrecision\")"
   ]
  },
  {
   "cell_type": "markdown",
   "metadata": {},
   "source": [
    "## Compare and Contrast Interpolation Processes"
   ]
  },
  {
   "cell_type": "code",
   "execution_count": null,
   "metadata": {},
   "outputs": [],
   "source": [
    "#kriging\n",
    "arcpy.ddd.Kriging(\"stations_Statistics3_XYTableToPoint\", \"MEAN_Avg_Temp\", r\"C:\\Users\\celia\\Documents\\ArcGIS\\Projects\\GIS5572_Lab4\\GIS5572_Lab4.gdb\\Kriging_stat2\", \"Spherical 0.014478 # # #\", 0.014477764, \"VARIABLE 12\", None)"
   ]
  },
  {
   "cell_type": "code",
   "execution_count": null,
   "metadata": {},
   "outputs": [],
   "source": [
    "#IDW\n",
    "arcpy.ddd.Idw(\"stations_Statistics3_XYTableToPoint\", \"MEAN_Avg_Temp\", r\"C:\\Users\\celia\\Documents\\ArcGIS\\Projects\\GIS5572_Lab4\\GIS5572_Lab4.gdb\\Idw_stations1\", 0.014477764, 2, \"VARIABLE 12\", None)"
   ]
  },
  {
   "cell_type": "code",
   "execution_count": null,
   "metadata": {},
   "outputs": [],
   "source": [
    "#Global Polynomial Interpolation with elevation\n",
    "arcpy.ga.GlobalPolynomialInterpolation(\"stations_Statistics3_XYTableToPoint\", \"MEAN_Avg_Temp\", None, r\"C:\\Users\\celia\\Documents\\ArcGIS\\Projects\\GIS5572_Lab4\\GIS5572_Lab4.gdb\\GPI_1\", 0.014477764, 1, \"Elevation\")"
   ]
  }
 ],
 "metadata": {
  "kernelspec": {
   "display_name": "ArcGISPro",
   "language": "Python",
   "name": "python3"
  },
  "language_info": {
   "file_extension": ".py",
   "name": "python",
   "version": "3"
  }
 },
 "nbformat": 4,
 "nbformat_minor": 4
}
