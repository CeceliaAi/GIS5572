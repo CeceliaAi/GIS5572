{
 "cells": [
  {
   "cell_type": "markdown",
   "metadata": {},
   "source": [
    "## Welcome to your notebook.\n"
   ]
  },
  {
   "cell_type": "markdown",
   "metadata": {},
   "source": [
    "#### Run this cell to connect to your GIS and get started:"
   ]
  },
  {
   "cell_type": "code",
   "execution_count": 1,
   "metadata": {},
   "outputs": [
    {
     "name": "stderr",
     "output_type": "stream",
     "text": [
      "/opt/conda/lib/python3.6/site-packages/arcgis/gis/__init__.py:407: UserWarning: You are logged on as cisaac_UMN with an administrator role, proceed with caution.\n",
      "  self.users.me.username)\n"
     ]
    }
   ],
   "source": [
    "from arcgis.gis import GIS\n",
    "gis = GIS(\"home\")"
   ]
  },
  {
   "cell_type": "markdown",
   "metadata": {},
   "source": [
    "#### Now you are ready to start!"
   ]
  },
  {
   "cell_type": "code",
   "execution_count": 2,
   "metadata": {},
   "outputs": [
    {
     "data": {
      "text/html": [
       "<div class=\"item_container\" style=\"height: auto; overflow: hidden; border: 1px solid #cfcfcf; border-radius: 2px; background: #f6fafa; line-height: 1.21429em; padding: 10px;\">\n",
       "                    <div class=\"item_left\" style=\"width: 210px; float: left;\">\n",
       "                       <a href='https://www.arcgis.com/home/item.html?id=f1e599b2855a4bd093bf4e0fb28aac5d' target='_blank'>\n",
       "                        <img src='data:image/png;base64,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' width='200' height='133' class=\"itemThumbnail\">\n",
       "                       </a>\n",
       "                    </div>\n",
       "\n",
       "                    <div class=\"item_right\"     style=\"float: none; width: auto; overflow: hidden;\">\n",
       "                        <a href='https://www.arcgis.com/home/item.html?id=f1e599b2855a4bd093bf4e0fb28aac5d' target='_blank'><b>shp_trans_rail_lines</b>\n",
       "                        </a>\n",
       "                        <br/><img src='https://www.arcgis.com/home/js/jsapi/esri/css/images/item_type_icons/featureshosted16.png' style=\"vertical-align:middle;\">Feature Layer Collection by cisaac_UMN\n",
       "                        <br/>Last Modified: February 04, 2021\n",
       "                        <br/>0 comments, 2 views\n",
       "                    </div>\n",
       "                </div>\n",
       "                "
      ],
      "text/plain": [
       "<Item title:\"shp_trans_rail_lines\" type:Feature Layer Collection owner:cisaac_UMN>"
      ]
     },
     "execution_count": 2,
     "metadata": {},
     "output_type": "execute_result"
    }
   ],
   "source": [
    "# Item Added From Toolbar\n",
    "# Title: shp_trans_rail_lines | Type: Feature Service | Owner: cisaac_UMN\n",
    "rail_lines = gis.content.get(\"f1e599b2855a4bd093bf4e0fb28aac5d\")\n",
    "rail_lines"
   ]
  },
  {
   "cell_type": "code",
   "execution_count": 3,
   "metadata": {},
   "outputs": [],
   "source": [
    "from arcgis import features\n"
   ]
  },
  {
   "cell_type": "code",
   "execution_count": 13,
   "metadata": {},
   "outputs": [
    {
     "data": {
      "text/html": [
       "<div class=\"item_container\" style=\"height: auto; overflow: hidden; border: 1px solid #cfcfcf; border-radius: 2px; background: #f6fafa; line-height: 1.21429em; padding: 10px;\">\n",
       "                    <div class=\"item_left\" style=\"width: 210px; float: left;\">\n",
       "                       <a href='https://www.arcgis.com/home/item.html?id=04eadd3b5f8542149ce9c7f1c43783aa' target='_blank'>\n",
       "                        <img src='http://static.arcgis.com/images/desktopapp.png' class=\"itemThumbnail\">\n",
       "                       </a>\n",
       "                    </div>\n",
       "\n",
       "                    <div class=\"item_right\"     style=\"float: none; width: auto; overflow: hidden;\">\n",
       "                        <a href='https://www.arcgis.com/home/item.html?id=04eadd3b5f8542149ce9c7f1c43783aa' target='_blank'><b>rail_lines_Buffer4</b>\n",
       "                        </a>\n",
       "                        <br/><img src='https://www.arcgis.com/home/js/jsapi/esri/css/images/item_type_icons/featureshosted16.png' style=\"vertical-align:middle;\">Feature Layer Collection by cisaac_UMN\n",
       "                        <br/>Last Modified: February 04, 2021\n",
       "                        <br/>0 comments, 0 views\n",
       "                    </div>\n",
       "                </div>\n",
       "                "
      ],
      "text/plain": [
       "<Item title:\"rail_lines_Buffer4\" type:Feature Layer Collection owner:cisaac_UMN>"
      ]
     },
     "execution_count": 13,
     "metadata": {},
     "output_type": "execute_result"
    }
   ],
   "source": [
    "features.use_proximity.create_buffers(input_layer = rail_lines, distances = [10], units = \"NauticalMiles\", output_name = \"rail_lines_Buffer4\")"
   ]
  },
  {
   "cell_type": "code",
   "execution_count": null,
   "metadata": {},
   "outputs": [],
   "source": []
  }
 ],
 "metadata": {
  "esriNotebookRuntime": {
   "notebookRuntimeName": "ArcGIS Notebook Python 3 Standard",
   "notebookRuntimeVersion": "4.0"
  },
  "kernelspec": {
   "display_name": "Python 3",
   "language": "python",
   "name": "python3"
  },
  "language_info": {
   "codemirror_mode": {
    "name": "ipython",
    "version": 3
   },
   "file_extension": ".py",
   "mimetype": "text/x-python",
   "name": "python",
   "nbconvert_exporter": "python",
   "pygments_lexer": "ipython3",
   "version": "3.6.10"
  }
 },
 "nbformat": 4,
 "nbformat_minor": 2
}
