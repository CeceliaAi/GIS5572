{
 "cells": [
  {
   "cell_type": "code",
   "execution_count": 1,
   "metadata": {},
   "outputs": [],
   "source": [
    "import arcpy\n",
    "#arcpy.env.workspace = \"C:\\Users\\celia\\Desktop\\shp_trans_rail_lines\""
   ]
  },
  {
   "cell_type": "code",
   "execution_count": 6,
   "metadata": {},
   "outputs": [
    {
     "data": {
      "text/html": [
       "<h2>Output</h2>C:\\Users\\celia\\Documents\\ArcGIS\\Projects\\GIS5572_Lab0\\GIS5572_Lab0.gdb\\rail_lines_Buffer3<h2>Messages</h2>Start Time: Wednesday, February 3, 2021 11:06:48 PM<br/>WARNING 000635: Skipping feature 149 because of NULL or EMPTY geometry.<br/>WARNING 000635: Skipping feature 222 because of NULL or EMPTY geometry.<br/>WARNING 000635: Skipping feature 223 because of NULL or EMPTY geometry.<br/>WARNING 000635: Skipping feature 243 because of NULL or EMPTY geometry.<br/>WARNING 000635: Skipping feature 244 because of NULL or EMPTY geometry.<br/>WARNING 000635: Skipping feature 245 because of NULL or EMPTY geometry.<br/>WARNING 000635: Skipping feature 246 because of NULL or EMPTY geometry.<br/>Succeeded at Wednesday, February 3, 2021 11:06:49 PM (Elapsed Time: 0.97 seconds)<br/><style>.rendered_html td, .rendered_html th {text-align: left;}.rendered_html tbody {border: 1px solid black;}</style>"
      ],
      "text/plain": [
       "<Result 'C:\\\\Users\\\\celia\\\\Documents\\\\ArcGIS\\\\Projects\\\\GIS5572_Lab0\\\\GIS5572_Lab0.gdb\\\\rail_lines_Buffer3'>"
      ]
     },
     "execution_count": 6,
     "metadata": {},
     "output_type": "execute_result"
    }
   ],
   "source": [
    "arcpy.analysis.Buffer(\"rail_lines\", \n",
    "                      \"rail_lines_Buffer3\", \"10 NauticalMiles\")"
   ]
  },
  {
   "cell_type": "code",
   "execution_count": null,
   "metadata": {},
   "outputs": [],
   "source": []
  }
 ],
 "metadata": {
  "kernelspec": {
   "display_name": "Python 3",
   "language": "python",
   "name": "python3"
  },
  "language_info": {
   "codemirror_mode": {
    "name": "ipython",
    "version": 3
   },
   "file_extension": ".py",
   "mimetype": "text/x-python",
   "name": "python",
   "nbconvert_exporter": "python",
   "pygments_lexer": "ipython3",
   "version": "3.7.9"
  }
 },
 "nbformat": 4,
 "nbformat_minor": 2
}
