{
 "cells": [
  {
   "cell_type": "code",
   "execution_count": null,
   "metadata": {},
   "outputs": [],
   "source": [
    "import arcpy\n",
    "import requests as r"
   ]
  },
  {
   "cell_type": "code",
   "execution_count": 18,
   "metadata": {},
   "outputs": [],
   "source": [
    "#set the base URL as a variable\n",
    "base = \"https://ndawn.ndsu.nodak.edu\"\n",
    "station = \"/get-table.html?station=\""
   ]
  },
  {
   "cell_type": "code",
   "execution_count": 47,
   "metadata": {},
   "outputs": [
    {
     "name": "stdout",
     "output_type": "stream",
     "text": [
      "https://ndawn.ndsu.nodak.edu/get-table.html?station=0&variable=ddmxt&year=2021&ttype=daily&quick_pick=&begin_date=2021-02-06&end_date=2021-02-06\n",
      "https://ndawn.ndsu.nodak.edu/get-table.html?station=1&variable=ddmxt&year=2021&ttype=daily&quick_pick=&begin_date=2021-02-06&end_date=2021-02-06\n",
      "https://ndawn.ndsu.nodak.edu/get-table.html?station=2&variable=ddmxt&year=2021&ttype=daily&quick_pick=&begin_date=2021-02-06&end_date=2021-02-06\n",
      "https://ndawn.ndsu.nodak.edu/get-table.html?station=3&variable=ddmxt&year=2021&ttype=daily&quick_pick=&begin_date=2021-02-06&end_date=2021-02-06\n",
      "https://ndawn.ndsu.nodak.edu/get-table.html?station=4&variable=ddmxt&year=2021&ttype=daily&quick_pick=&begin_date=2021-02-06&end_date=2021-02-06\n",
      "https://ndawn.ndsu.nodak.edu/get-table.html?station=5&variable=ddmxt&year=2021&ttype=daily&quick_pick=&begin_date=2021-02-06&end_date=2021-02-06\n",
      "https://ndawn.ndsu.nodak.edu/get-table.html?station=6&variable=ddmxt&year=2021&ttype=daily&quick_pick=&begin_date=2021-02-06&end_date=2021-02-06\n",
      "https://ndawn.ndsu.nodak.edu/get-table.html?station=7&variable=ddmxt&year=2021&ttype=daily&quick_pick=&begin_date=2021-02-06&end_date=2021-02-06\n",
      "https://ndawn.ndsu.nodak.edu/get-table.html?station=8&variable=ddmxt&year=2021&ttype=daily&quick_pick=&begin_date=2021-02-06&end_date=2021-02-06\n",
      "https://ndawn.ndsu.nodak.edu/get-table.html?station=9&variable=ddmxt&year=2021&ttype=daily&quick_pick=&begin_date=2021-02-06&end_date=2021-02-06\n",
      "https://ndawn.ndsu.nodak.edu/get-table.html?station=10&variable=ddmxt&year=2021&ttype=daily&quick_pick=&begin_date=2021-02-06&end_date=2021-02-06\n",
      "https://ndawn.ndsu.nodak.edu/get-table.html?station=11&variable=ddmxt&year=2021&ttype=daily&quick_pick=&begin_date=2021-02-06&end_date=2021-02-06\n",
      "https://ndawn.ndsu.nodak.edu/get-table.html?station=12&variable=ddmxt&year=2021&ttype=daily&quick_pick=&begin_date=2021-02-06&end_date=2021-02-06\n",
      "https://ndawn.ndsu.nodak.edu/get-table.html?station=13&variable=ddmxt&year=2021&ttype=daily&quick_pick=&begin_date=2021-02-06&end_date=2021-02-06\n",
      "https://ndawn.ndsu.nodak.edu/get-table.html?station=14&variable=ddmxt&year=2021&ttype=daily&quick_pick=&begin_date=2021-02-06&end_date=2021-02-06\n",
      "https://ndawn.ndsu.nodak.edu/get-table.html?station=15&variable=ddmxt&year=2021&ttype=daily&quick_pick=&begin_date=2021-02-06&end_date=2021-02-06\n",
      "https://ndawn.ndsu.nodak.edu/get-table.html?station=16&variable=ddmxt&year=2021&ttype=daily&quick_pick=&begin_date=2021-02-06&end_date=2021-02-06\n",
      "https://ndawn.ndsu.nodak.edu/get-table.html?station=17&variable=ddmxt&year=2021&ttype=daily&quick_pick=&begin_date=2021-02-06&end_date=2021-02-06\n",
      "https://ndawn.ndsu.nodak.edu/get-table.html?station=18&variable=ddmxt&year=2021&ttype=daily&quick_pick=&begin_date=2021-02-06&end_date=2021-02-06\n",
      "https://ndawn.ndsu.nodak.edu/get-table.html?station=19&variable=ddmxt&year=2021&ttype=daily&quick_pick=&begin_date=2021-02-06&end_date=2021-02-06\n",
      "https://ndawn.ndsu.nodak.edu/get-table.html?station=20&variable=ddmxt&year=2021&ttype=daily&quick_pick=&begin_date=2021-02-06&end_date=2021-02-06\n",
      "https://ndawn.ndsu.nodak.edu/get-table.html?station=21&variable=ddmxt&year=2021&ttype=daily&quick_pick=&begin_date=2021-02-06&end_date=2021-02-06\n",
      "https://ndawn.ndsu.nodak.edu/get-table.html?station=22&variable=ddmxt&year=2021&ttype=daily&quick_pick=&begin_date=2021-02-06&end_date=2021-02-06\n",
      "https://ndawn.ndsu.nodak.edu/get-table.html?station=23&variable=ddmxt&year=2021&ttype=daily&quick_pick=&begin_date=2021-02-06&end_date=2021-02-06\n",
      "https://ndawn.ndsu.nodak.edu/get-table.html?station=24&variable=ddmxt&year=2021&ttype=daily&quick_pick=&begin_date=2021-02-06&end_date=2021-02-06\n",
      "https://ndawn.ndsu.nodak.edu/get-table.html?station=25&variable=ddmxt&year=2021&ttype=daily&quick_pick=&begin_date=2021-02-06&end_date=2021-02-06\n",
      "https://ndawn.ndsu.nodak.edu/get-table.html?station=26&variable=ddmxt&year=2021&ttype=daily&quick_pick=&begin_date=2021-02-06&end_date=2021-02-06\n",
      "https://ndawn.ndsu.nodak.edu/get-table.html?station=27&variable=ddmxt&year=2021&ttype=daily&quick_pick=&begin_date=2021-02-06&end_date=2021-02-06\n",
      "https://ndawn.ndsu.nodak.edu/get-table.html?station=28&variable=ddmxt&year=2021&ttype=daily&quick_pick=&begin_date=2021-02-06&end_date=2021-02-06\n",
      "https://ndawn.ndsu.nodak.edu/get-table.html?station=29&variable=ddmxt&year=2021&ttype=daily&quick_pick=&begin_date=2021-02-06&end_date=2021-02-06\n",
      "https://ndawn.ndsu.nodak.edu/get-table.html?station=30&variable=ddmxt&year=2021&ttype=daily&quick_pick=&begin_date=2021-02-06&end_date=2021-02-06\n",
      "https://ndawn.ndsu.nodak.edu/get-table.html?station=31&variable=ddmxt&year=2021&ttype=daily&quick_pick=&begin_date=2021-02-06&end_date=2021-02-06\n",
      "https://ndawn.ndsu.nodak.edu/get-table.html?station=32&variable=ddmxt&year=2021&ttype=daily&quick_pick=&begin_date=2021-02-06&end_date=2021-02-06\n",
      "https://ndawn.ndsu.nodak.edu/get-table.html?station=33&variable=ddmxt&year=2021&ttype=daily&quick_pick=&begin_date=2021-02-06&end_date=2021-02-06\n",
      "https://ndawn.ndsu.nodak.edu/get-table.html?station=34&variable=ddmxt&year=2021&ttype=daily&quick_pick=&begin_date=2021-02-06&end_date=2021-02-06\n",
      "https://ndawn.ndsu.nodak.edu/get-table.html?station=35&variable=ddmxt&year=2021&ttype=daily&quick_pick=&begin_date=2021-02-06&end_date=2021-02-06\n",
      "https://ndawn.ndsu.nodak.edu/get-table.html?station=36&variable=ddmxt&year=2021&ttype=daily&quick_pick=&begin_date=2021-02-06&end_date=2021-02-06\n",
      "https://ndawn.ndsu.nodak.edu/get-table.html?station=37&variable=ddmxt&year=2021&ttype=daily&quick_pick=&begin_date=2021-02-06&end_date=2021-02-06\n",
      "https://ndawn.ndsu.nodak.edu/get-table.html?station=38&variable=ddmxt&year=2021&ttype=daily&quick_pick=&begin_date=2021-02-06&end_date=2021-02-06\n",
      "https://ndawn.ndsu.nodak.edu/get-table.html?station=39&variable=ddmxt&year=2021&ttype=daily&quick_pick=&begin_date=2021-02-06&end_date=2021-02-06\n",
      "https://ndawn.ndsu.nodak.edu/get-table.html?station=40&variable=ddmxt&year=2021&ttype=daily&quick_pick=&begin_date=2021-02-06&end_date=2021-02-06\n",
      "https://ndawn.ndsu.nodak.edu/get-table.html?station=41&variable=ddmxt&year=2021&ttype=daily&quick_pick=&begin_date=2021-02-06&end_date=2021-02-06\n",
      "https://ndawn.ndsu.nodak.edu/get-table.html?station=42&variable=ddmxt&year=2021&ttype=daily&quick_pick=&begin_date=2021-02-06&end_date=2021-02-06\n",
      "https://ndawn.ndsu.nodak.edu/get-table.html?station=43&variable=ddmxt&year=2021&ttype=daily&quick_pick=&begin_date=2021-02-06&end_date=2021-02-06\n",
      "https://ndawn.ndsu.nodak.edu/get-table.html?station=44&variable=ddmxt&year=2021&ttype=daily&quick_pick=&begin_date=2021-02-06&end_date=2021-02-06\n",
      "https://ndawn.ndsu.nodak.edu/get-table.html?station=45&variable=ddmxt&year=2021&ttype=daily&quick_pick=&begin_date=2021-02-06&end_date=2021-02-06\n",
      "https://ndawn.ndsu.nodak.edu/get-table.html?station=46&variable=ddmxt&year=2021&ttype=daily&quick_pick=&begin_date=2021-02-06&end_date=2021-02-06\n",
      "https://ndawn.ndsu.nodak.edu/get-table.html?station=47&variable=ddmxt&year=2021&ttype=daily&quick_pick=&begin_date=2021-02-06&end_date=2021-02-06\n",
      "https://ndawn.ndsu.nodak.edu/get-table.html?station=48&variable=ddmxt&year=2021&ttype=daily&quick_pick=&begin_date=2021-02-06&end_date=2021-02-06\n",
      "https://ndawn.ndsu.nodak.edu/get-table.html?station=49&variable=ddmxt&year=2021&ttype=daily&quick_pick=&begin_date=2021-02-06&end_date=2021-02-06\n",
      "https://ndawn.ndsu.nodak.edu/get-table.html?station=50&variable=ddmxt&year=2021&ttype=daily&quick_pick=&begin_date=2021-02-06&end_date=2021-02-06\n",
      "https://ndawn.ndsu.nodak.edu/get-table.html?station=51&variable=ddmxt&year=2021&ttype=daily&quick_pick=&begin_date=2021-02-06&end_date=2021-02-06\n",
      "https://ndawn.ndsu.nodak.edu/get-table.html?station=52&variable=ddmxt&year=2021&ttype=daily&quick_pick=&begin_date=2021-02-06&end_date=2021-02-06\n",
      "https://ndawn.ndsu.nodak.edu/get-table.html?station=53&variable=ddmxt&year=2021&ttype=daily&quick_pick=&begin_date=2021-02-06&end_date=2021-02-06\n",
      "https://ndawn.ndsu.nodak.edu/get-table.html?station=54&variable=ddmxt&year=2021&ttype=daily&quick_pick=&begin_date=2021-02-06&end_date=2021-02-06\n",
      "https://ndawn.ndsu.nodak.edu/get-table.html?station=55&variable=ddmxt&year=2021&ttype=daily&quick_pick=&begin_date=2021-02-06&end_date=2021-02-06\n",
      "https://ndawn.ndsu.nodak.edu/get-table.html?station=56&variable=ddmxt&year=2021&ttype=daily&quick_pick=&begin_date=2021-02-06&end_date=2021-02-06\n",
      "https://ndawn.ndsu.nodak.edu/get-table.html?station=57&variable=ddmxt&year=2021&ttype=daily&quick_pick=&begin_date=2021-02-06&end_date=2021-02-06\n",
      "https://ndawn.ndsu.nodak.edu/get-table.html?station=58&variable=ddmxt&year=2021&ttype=daily&quick_pick=&begin_date=2021-02-06&end_date=2021-02-06\n",
      "https://ndawn.ndsu.nodak.edu/get-table.html?station=59&variable=ddmxt&year=2021&ttype=daily&quick_pick=&begin_date=2021-02-06&end_date=2021-02-06\n",
      "https://ndawn.ndsu.nodak.edu/get-table.html?station=60&variable=ddmxt&year=2021&ttype=daily&quick_pick=&begin_date=2021-02-06&end_date=2021-02-06\n",
      "https://ndawn.ndsu.nodak.edu/get-table.html?station=61&variable=ddmxt&year=2021&ttype=daily&quick_pick=&begin_date=2021-02-06&end_date=2021-02-06\n",
      "https://ndawn.ndsu.nodak.edu/get-table.html?station=62&variable=ddmxt&year=2021&ttype=daily&quick_pick=&begin_date=2021-02-06&end_date=2021-02-06\n",
      "https://ndawn.ndsu.nodak.edu/get-table.html?station=63&variable=ddmxt&year=2021&ttype=daily&quick_pick=&begin_date=2021-02-06&end_date=2021-02-06\n",
      "https://ndawn.ndsu.nodak.edu/get-table.html?station=64&variable=ddmxt&year=2021&ttype=daily&quick_pick=&begin_date=2021-02-06&end_date=2021-02-06\n",
      "https://ndawn.ndsu.nodak.edu/get-table.html?station=65&variable=ddmxt&year=2021&ttype=daily&quick_pick=&begin_date=2021-02-06&end_date=2021-02-06\n",
      "https://ndawn.ndsu.nodak.edu/get-table.html?station=66&variable=ddmxt&year=2021&ttype=daily&quick_pick=&begin_date=2021-02-06&end_date=2021-02-06\n",
      "https://ndawn.ndsu.nodak.edu/get-table.html?station=67&variable=ddmxt&year=2021&ttype=daily&quick_pick=&begin_date=2021-02-06&end_date=2021-02-06\n",
      "https://ndawn.ndsu.nodak.edu/get-table.html?station=68&variable=ddmxt&year=2021&ttype=daily&quick_pick=&begin_date=2021-02-06&end_date=2021-02-06\n",
      "https://ndawn.ndsu.nodak.edu/get-table.html?station=69&variable=ddmxt&year=2021&ttype=daily&quick_pick=&begin_date=2021-02-06&end_date=2021-02-06\n",
      "https://ndawn.ndsu.nodak.edu/get-table.html?station=70&variable=ddmxt&year=2021&ttype=daily&quick_pick=&begin_date=2021-02-06&end_date=2021-02-06\n",
      "https://ndawn.ndsu.nodak.edu/get-table.html?station=71&variable=ddmxt&year=2021&ttype=daily&quick_pick=&begin_date=2021-02-06&end_date=2021-02-06\n",
      "https://ndawn.ndsu.nodak.edu/get-table.html?station=72&variable=ddmxt&year=2021&ttype=daily&quick_pick=&begin_date=2021-02-06&end_date=2021-02-06\n",
      "https://ndawn.ndsu.nodak.edu/get-table.html?station=73&variable=ddmxt&year=2021&ttype=daily&quick_pick=&begin_date=2021-02-06&end_date=2021-02-06\n",
      "https://ndawn.ndsu.nodak.edu/get-table.html?station=74&variable=ddmxt&year=2021&ttype=daily&quick_pick=&begin_date=2021-02-06&end_date=2021-02-06\n",
      "https://ndawn.ndsu.nodak.edu/get-table.html?station=75&variable=ddmxt&year=2021&ttype=daily&quick_pick=&begin_date=2021-02-06&end_date=2021-02-06\n",
      "https://ndawn.ndsu.nodak.edu/get-table.html?station=76&variable=ddmxt&year=2021&ttype=daily&quick_pick=&begin_date=2021-02-06&end_date=2021-02-06\n",
      "https://ndawn.ndsu.nodak.edu/get-table.html?station=77&variable=ddmxt&year=2021&ttype=daily&quick_pick=&begin_date=2021-02-06&end_date=2021-02-06\n",
      "https://ndawn.ndsu.nodak.edu/get-table.html?station=78&variable=ddmxt&year=2021&ttype=daily&quick_pick=&begin_date=2021-02-06&end_date=2021-02-06\n",
      "https://ndawn.ndsu.nodak.edu/get-table.html?station=79&variable=ddmxt&year=2021&ttype=daily&quick_pick=&begin_date=2021-02-06&end_date=2021-02-06\n",
      "https://ndawn.ndsu.nodak.edu/get-table.html?station=80&variable=ddmxt&year=2021&ttype=daily&quick_pick=&begin_date=2021-02-06&end_date=2021-02-06\n",
      "https://ndawn.ndsu.nodak.edu/get-table.html?station=81&variable=ddmxt&year=2021&ttype=daily&quick_pick=&begin_date=2021-02-06&end_date=2021-02-06\n",
      "https://ndawn.ndsu.nodak.edu/get-table.html?station=82&variable=ddmxt&year=2021&ttype=daily&quick_pick=&begin_date=2021-02-06&end_date=2021-02-06\n",
      "https://ndawn.ndsu.nodak.edu/get-table.html?station=83&variable=ddmxt&year=2021&ttype=daily&quick_pick=&begin_date=2021-02-06&end_date=2021-02-06\n",
      "https://ndawn.ndsu.nodak.edu/get-table.html?station=84&variable=ddmxt&year=2021&ttype=daily&quick_pick=&begin_date=2021-02-06&end_date=2021-02-06\n",
      "https://ndawn.ndsu.nodak.edu/get-table.html?station=85&variable=ddmxt&year=2021&ttype=daily&quick_pick=&begin_date=2021-02-06&end_date=2021-02-06\n",
      "https://ndawn.ndsu.nodak.edu/get-table.html?station=86&variable=ddmxt&year=2021&ttype=daily&quick_pick=&begin_date=2021-02-06&end_date=2021-02-06\n",
      "https://ndawn.ndsu.nodak.edu/get-table.html?station=87&variable=ddmxt&year=2021&ttype=daily&quick_pick=&begin_date=2021-02-06&end_date=2021-02-06\n",
      "https://ndawn.ndsu.nodak.edu/get-table.html?station=88&variable=ddmxt&year=2021&ttype=daily&quick_pick=&begin_date=2021-02-06&end_date=2021-02-06\n",
      "https://ndawn.ndsu.nodak.edu/get-table.html?station=89&variable=ddmxt&year=2021&ttype=daily&quick_pick=&begin_date=2021-02-06&end_date=2021-02-06\n",
      "https://ndawn.ndsu.nodak.edu/get-table.html?station=90&variable=ddmxt&year=2021&ttype=daily&quick_pick=&begin_date=2021-02-06&end_date=2021-02-06\n",
      "https://ndawn.ndsu.nodak.edu/get-table.html?station=91&variable=ddmxt&year=2021&ttype=daily&quick_pick=&begin_date=2021-02-06&end_date=2021-02-06\n",
      "https://ndawn.ndsu.nodak.edu/get-table.html?station=92&variable=ddmxt&year=2021&ttype=daily&quick_pick=&begin_date=2021-02-06&end_date=2021-02-06\n",
      "https://ndawn.ndsu.nodak.edu/get-table.html?station=93&variable=ddmxt&year=2021&ttype=daily&quick_pick=&begin_date=2021-02-06&end_date=2021-02-06\n",
      "https://ndawn.ndsu.nodak.edu/get-table.html?station=94&variable=ddmxt&year=2021&ttype=daily&quick_pick=&begin_date=2021-02-06&end_date=2021-02-06\n",
      "https://ndawn.ndsu.nodak.edu/get-table.html?station=95&variable=ddmxt&year=2021&ttype=daily&quick_pick=&begin_date=2021-02-06&end_date=2021-02-06\n",
      "https://ndawn.ndsu.nodak.edu/get-table.html?station=96&variable=ddmxt&year=2021&ttype=daily&quick_pick=&begin_date=2021-02-06&end_date=2021-02-06\n",
      "https://ndawn.ndsu.nodak.edu/get-table.html?station=97&variable=ddmxt&year=2021&ttype=daily&quick_pick=&begin_date=2021-02-06&end_date=2021-02-06\n",
      "https://ndawn.ndsu.nodak.edu/get-table.html?station=98&variable=ddmxt&year=2021&ttype=daily&quick_pick=&begin_date=2021-02-06&end_date=2021-02-06\n",
      "https://ndawn.ndsu.nodak.edu/get-table.html?station=99&variable=ddmxt&year=2021&ttype=daily&quick_pick=&begin_date=2021-02-06&end_date=2021-02-06\n"
     ]
    }
   ],
   "source": [
    "#create a for loop that will create URLs for each station\n",
    "for i in range (0,140):\n",
    "    \n",
    "    print(base + station + str(i) + \"&variable=ddmxt&year=2021&ttype=daily&quick_pick=&begin_date=2021-02-07&end_date=2021-02-07\")"
   ]
  },
  {
   "cell_type": "code",
   "execution_count": 34,
   "metadata": {},
   "outputs": [],
   "source": [
    "#call for that URL and set it as a variable\n",
    "downloadstation1 = r.get(\"https://ndawn.ndsu.nodak.edu/table.csv?station=78&variable=ddmxt&year=2021&ttype=daily&quick_pick=&begin_date=2021-02-07&end_date=2021-02-07\")"
   ]
  },
  {
   "cell_type": "code",
   "execution_count": 35,
   "metadata": {},
   "outputs": [
    {
     "data": {
      "text/plain": [
       "351"
      ]
     },
     "execution_count": 35,
     "metadata": {},
     "output_type": "execute_result"
    }
   ],
   "source": [
    "#write the result to a csv file\n",
    "\n",
    "open(\"stationdata78.csv\",\"wb\").write(downloadstation1.content)"
   ]
  },
  {
   "cell_type": "code",
   "execution_count": null,
   "metadata": {},
   "outputs": [],
   "source": []
  }
 ],
 "metadata": {
  "kernelspec": {
   "display_name": "Python 3",
   "language": "python",
   "name": "python3"
  },
  "language_info": {
   "codemirror_mode": {
    "name": "ipython",
    "version": 3
   },
   "file_extension": ".py",
   "mimetype": "text/x-python",
   "name": "python",
   "nbconvert_exporter": "python",
   "pygments_lexer": "ipython3",
   "version": "3.7.9"
  }
 },
 "nbformat": 4,
 "nbformat_minor": 2
}
